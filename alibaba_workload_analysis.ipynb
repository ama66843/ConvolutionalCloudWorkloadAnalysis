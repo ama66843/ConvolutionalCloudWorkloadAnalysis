import pandas as pd   
import numpy as np 

data_path = 'E:/trace_201708/trace_201708/server_usage.csv' 
headers = ['timestamp',
'machineID',
'util:CPU',
'util:memory',
'util:disk',
'load1avg',
'load5avg',
'load15avg']
trace_dataframe = pd.read_csv(data_path, header=None, index_col=False,names=headers,delimiter=',')

#deployment_data_path = 'trace_data/deployment/deployment.csv'
#deployment_headers=['deploymentid','deploymentsize']
#deployment_trace_dataframe = pd.read_csv(deployment_data_path, header=None, index_col=False,names=deployment_headers,delimiter=',')

#Compute VM Lifetime based on VM Created and VM Deleted timestamps and transform to Hour
#trace_dataframe['lifetime'] = np.maximum((trace_dataframe['vmdeleted'] - trace_dataframe['vmcreated']),300)/ 3600
#trace_dataframe['corehour'] = trace_dataframe['lifetime'] * trace_dataframe['vmcorecount']
trace_dataframe.head()
